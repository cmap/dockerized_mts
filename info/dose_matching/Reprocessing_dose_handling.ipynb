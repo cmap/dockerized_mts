{
 "cells": [
  {
   "cell_type": "code",
   "execution_count": null,
   "id": "0",
   "metadata": {},
   "outputs": [],
   "source": [
    "import numpy as np\n",
    "import pandas as pd"
   ]
  },
  {
   "cell_type": "code",
   "execution_count": null,
   "id": "1",
   "metadata": {},
   "outputs": [],
   "source": [
    "#read in instinfo\n",
    "instinfo_original = pd.read_table('inst_original.txt')\n",
    "instinfo_reprocessed = pd.read_table('inst_reprocessed.txt')"
   ]
  },
  {
   "cell_type": "code",
   "execution_count": null,
   "id": "2",
   "metadata": {},
   "outputs": [],
   "source": [
    "\n",
    "\"\"\"\n",
    "Function nearest dose from dose array\n",
    "\n",
    "dose: single float value\n",
    "dose_array: array of floats\n",
    "\"\"\"\n",
    "def find_matching_dose(dose, dose_array):\n",
    "    #enforce typing\n",
    "    if type(dose)==str: \n",
    "        dose=float(dose)\n",
    "\n",
    "    np_doses = np.array(dose_array.astype(float))\n",
    "    #subtract dose from all doses in dose_array\n",
    "    diffs = abs(dose - np_doses)\n",
    "    \n",
    "    #find index of min(abs(diffs)) and return index in dose_array\n",
    "    matched_dose = list(dose_array)[np.argmin(diffs)]\n",
    "    \n",
    "    return str(matched_dose)"
   ]
  },
  {
   "cell_type": "code",
   "execution_count": null,
   "id": "3",
   "metadata": {},
   "outputs": [],
   "source": [
    "#apply to Dataframe row-wise, feeding doses of reprocessed dataset\n",
    "instinfo_original['matched_dose'] = instinfo_original.apply(\n",
    "    lambda row: find_matching_dose(row['pert_dose'], instinfo_reprocessed['pert_dose']),\n",
    "    axis=1\n",
    ")\n",
    "\n",
    "instinfo_original['pert_idose'] = instinfo_original.apply(\n",
    "    lambda row: '{} {}'.format(row['matched_dose'], row['pert_dose_unit']),\n",
    "    axis=1\n",
    ")\n"
   ]
  },
  {
   "cell_type": "code",
   "execution_count": null,
   "id": "4",
   "metadata": {},
   "outputs": [],
   "source": [
    "instinfo_original.head(5)"
   ]
  },
  {
   "cell_type": "code",
   "execution_count": null,
   "id": "5",
   "metadata": {},
   "outputs": [],
   "source": [
    "instinfo_reprocessed.head(5)"
   ]
  },
  {
   "cell_type": "code",
   "execution_count": null,
   "id": "6",
   "metadata": {},
   "outputs": [],
   "source": []
  }
 ],
 "metadata": {
  "kernelspec": {
   "display_name": "Python 3 (ipykernel)",
   "language": "python",
   "name": "python3"
  },
  "language_info": {
   "codemirror_mode": {
    "name": "ipython",
    "version": 3
   },
   "file_extension": ".py",
   "mimetype": "text/x-python",
   "name": "python",
   "nbconvert_exporter": "python",
   "pygments_lexer": "ipython3",
   "version": "3.7.11"
  }
 },
 "nbformat": 4,
 "nbformat_minor": 5
}
